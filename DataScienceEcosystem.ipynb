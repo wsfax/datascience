{
 "cells": [
  {
   "cell_type": "markdown",
   "id": "082eb03f-4b84-4237-b213-98d512deac14",
   "metadata": {},
   "source": [
    "# Data Science Tools and Ecosystem"
   ]
  },
  {
   "cell_type": "markdown",
   "id": "68ef677e-af60-4fb9-bc5b-266d86deeb92",
   "metadata": {},
   "source": [
    "In this notebook, Data Science Tools and Ecosystem are summarized."
   ]
  },
  {
   "cell_type": "markdown",
   "id": "3a24166a-c7dd-48ce-912a-c2837845994a",
   "metadata": {},
   "source": [
    "**Objectives**:\n",
    "- List popular languages for Data Science\n",
    "- List popular libraries for Data Science\n",
    "- Evaluating arithmetic experssions in Python"
   ]
  },
  {
   "cell_type": "markdown",
   "id": "f42bdb58-ff90-4c00-8a81-fdd078a7d001",
   "metadata": {},
   "source": [
    "Some of the popular languages that Data Scientists use are:\n",
    "1. Python\n",
    "2. R\n",
    "3. Scala"
   ]
  },
  {
   "cell_type": "markdown",
   "id": "36ff6c02-97bd-4c54-8860-c7abeaf6d825",
   "metadata": {},
   "source": [
    "Some of the commonly used libraries used by Data Scientists include:\n",
    "1. Numpy\n",
    "2. Pandas\n",
    "3. Scikit-learn"
   ]
  },
  {
   "cell_type": "markdown",
   "id": "9fa79d7c-89de-4e65-ad0e-b801008c6caf",
   "metadata": {},
   "source": [
    "|Data Science Tools |\r\n",
    "|---:|\r\n",
    "jupyter Lab  \n",
    "| R studio | |\r",
    "Apache Spark|   |"
   ]
  },
  {
   "cell_type": "markdown",
   "id": "5d91c64c-4291-4229-8867-5fd9d2ba3bc9",
   "metadata": {},
   "source": [
    "### Below are a few examples of evaluating arithmetic expressions in Python"
   ]
  },
  {
   "cell_type": "code",
   "execution_count": 6,
   "id": "a3f44f2a-7aab-4a91-a463-e83d04417771",
   "metadata": {},
   "outputs": [
    {
     "data": {
      "text/plain": [
       "17"
      ]
     },
     "execution_count": 6,
     "metadata": {},
     "output_type": "execute_result"
    }
   ],
   "source": [
    "# This a simple arithmetic expression to mutiply then add integers\n",
    "(3*4)+5"
   ]
  },
  {
   "cell_type": "code",
   "execution_count": 4,
   "id": "531e54bf-646a-4949-b9bc-24ee8b801d37",
   "metadata": {},
   "outputs": [
    {
     "name": "stdout",
     "output_type": "stream",
     "text": [
      "200 minutes is equal to 3.33 hours\n"
     ]
    }
   ],
   "source": [
    "# This will convert 200 minutes to hours by diving by 60\n",
    "print(f\"200 minutes is equal to {round(200 / 60.0, 2)} hours\")"
   ]
  },
  {
   "cell_type": "markdown",
   "id": "4ce522b7-2597-4180-8378-3e4dd8d3fe55",
   "metadata": {},
   "source": [
    "## Author\n",
    "Oualid Ammous"
   ]
  },
  {
   "cell_type": "code",
   "execution_count": null,
   "id": "0c23feaa-dc52-44ed-a064-bc703ffd6eb5",
   "metadata": {},
   "outputs": [],
   "source": []
  }
 ],
 "metadata": {
  "kernelspec": {
   "display_name": "Python 3 (ipykernel)",
   "language": "python",
   "name": "python3"
  },
  "language_info": {
   "codemirror_mode": {
    "name": "ipython",
    "version": 3
   },
   "file_extension": ".py",
   "mimetype": "text/x-python",
   "name": "python",
   "nbconvert_exporter": "python",
   "pygments_lexer": "ipython3",
   "version": "3.10.10"
  }
 },
 "nbformat": 4,
 "nbformat_minor": 5
}
